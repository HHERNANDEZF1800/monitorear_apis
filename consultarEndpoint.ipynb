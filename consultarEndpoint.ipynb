{
 "cells": [
  {
   "cell_type": "markdown",
   "metadata": {},
   "source": []
  },
  {
   "cell_type": "code",
   "execution_count": 5,
   "metadata": {},
   "outputs": [],
   "source": [
    "import requests\n",
    "import json\n",
    "from datetime import datetime\n",
    "from typing import Dict, List, Optional"
   ]
  },
  {
   "cell_type": "code",
   "execution_count": 6,
   "metadata": {},
   "outputs": [],
   "source": [
    "tokens_s1 = '/tokens_obtenidos/tokens.json'\n",
    "credenciales = '../EndPointsAPIS/EndPoints/endpointsS1.json'"
   ]
  },
  {
   "cell_type": "markdown",
   "metadata": {},
   "source": [
    "#### Funciones"
   ]
  },
  {
   "cell_type": "code",
   "execution_count": 7,
   "metadata": {},
   "outputs": [
    {
     "ename": "FileNotFoundError",
     "evalue": "[Errno 2] No such file or directory: '../EndPointsAPIS/EndPoints/endpointsS1.json'",
     "output_type": "error",
     "traceback": [
      "\u001b[0;31m---------------------------------------------------------------------------\u001b[0m",
      "\u001b[0;31mFileNotFoundError\u001b[0m                         Traceback (most recent call last)",
      "Cell \u001b[0;32mIn[7], line 96\u001b[0m\n\u001b[1;32m     93\u001b[0m         \u001b[38;5;28mprint\u001b[39m(\u001b[38;5;124mf\u001b[39m\u001b[38;5;124m\"\u001b[39m\u001b[38;5;132;01m{\u001b[39;00msupplier_id\u001b[38;5;132;01m}\u001b[39;00m\u001b[38;5;124m: \u001b[39m\u001b[38;5;132;01m{\u001b[39;00mresult\u001b[38;5;132;01m}\u001b[39;00m\u001b[38;5;124m\"\u001b[39m)\n\u001b[1;32m     95\u001b[0m \u001b[38;5;28;01mif\u001b[39;00m \u001b[38;5;18m__name__\u001b[39m \u001b[38;5;241m==\u001b[39m \u001b[38;5;124m\"\u001b[39m\u001b[38;5;124m__main__\u001b[39m\u001b[38;5;124m\"\u001b[39m:\n\u001b[0;32m---> 96\u001b[0m     \u001b[43mmain\u001b[49m\u001b[43m(\u001b[49m\u001b[43m)\u001b[49m\n",
      "Cell \u001b[0;32mIn[7], line 76\u001b[0m, in \u001b[0;36mmain\u001b[0;34m()\u001b[0m\n\u001b[1;32m     74\u001b[0m \u001b[38;5;28;01mdef\u001b[39;00m\u001b[38;5;250m \u001b[39m\u001b[38;5;21mmain\u001b[39m():\n\u001b[1;32m     75\u001b[0m     \u001b[38;5;66;03m# Cargar configuraciones desde archivos\u001b[39;00m\n\u001b[0;32m---> 76\u001b[0m     \u001b[38;5;28;01mwith\u001b[39;00m \u001b[38;5;28;43mopen\u001b[39;49m\u001b[43m(\u001b[49m\u001b[43mcredenciales\u001b[49m\u001b[43m,\u001b[49m\u001b[43m \u001b[49m\u001b[38;5;124;43m\"\u001b[39;49m\u001b[38;5;124;43mr\u001b[39;49m\u001b[38;5;124;43m\"\u001b[39;49m\u001b[43m)\u001b[49m \u001b[38;5;28;01mas\u001b[39;00m f:\n\u001b[1;32m     77\u001b[0m         suppliers_config \u001b[38;5;241m=\u001b[39m json\u001b[38;5;241m.\u001b[39mload(f)\n\u001b[1;32m     79\u001b[0m     \u001b[38;5;28;01mwith\u001b[39;00m \u001b[38;5;28mopen\u001b[39m(tokens_s1, \u001b[38;5;124m\"\u001b[39m\u001b[38;5;124mr\u001b[39m\u001b[38;5;124m\"\u001b[39m) \u001b[38;5;28;01mas\u001b[39;00m f:\n",
      "File \u001b[0;32m~/sesna/desarrollo/otros/monitorear_api/monitorear_api_venv/lib/python3.12/site-packages/IPython/core/interactiveshell.py:324\u001b[0m, in \u001b[0;36m_modified_open\u001b[0;34m(file, *args, **kwargs)\u001b[0m\n\u001b[1;32m    317\u001b[0m \u001b[38;5;28;01mif\u001b[39;00m file \u001b[38;5;129;01min\u001b[39;00m {\u001b[38;5;241m0\u001b[39m, \u001b[38;5;241m1\u001b[39m, \u001b[38;5;241m2\u001b[39m}:\n\u001b[1;32m    318\u001b[0m     \u001b[38;5;28;01mraise\u001b[39;00m \u001b[38;5;167;01mValueError\u001b[39;00m(\n\u001b[1;32m    319\u001b[0m         \u001b[38;5;124mf\u001b[39m\u001b[38;5;124m\"\u001b[39m\u001b[38;5;124mIPython won\u001b[39m\u001b[38;5;124m'\u001b[39m\u001b[38;5;124mt let you open fd=\u001b[39m\u001b[38;5;132;01m{\u001b[39;00mfile\u001b[38;5;132;01m}\u001b[39;00m\u001b[38;5;124m by default \u001b[39m\u001b[38;5;124m\"\u001b[39m\n\u001b[1;32m    320\u001b[0m         \u001b[38;5;124m\"\u001b[39m\u001b[38;5;124mas it is likely to crash IPython. If you know what you are doing, \u001b[39m\u001b[38;5;124m\"\u001b[39m\n\u001b[1;32m    321\u001b[0m         \u001b[38;5;124m\"\u001b[39m\u001b[38;5;124myou can use builtins\u001b[39m\u001b[38;5;124m'\u001b[39m\u001b[38;5;124m open.\u001b[39m\u001b[38;5;124m\"\u001b[39m\n\u001b[1;32m    322\u001b[0m     )\n\u001b[0;32m--> 324\u001b[0m \u001b[38;5;28;01mreturn\u001b[39;00m \u001b[43mio_open\u001b[49m\u001b[43m(\u001b[49m\u001b[43mfile\u001b[49m\u001b[43m,\u001b[49m\u001b[43m \u001b[49m\u001b[38;5;241;43m*\u001b[39;49m\u001b[43margs\u001b[49m\u001b[43m,\u001b[49m\u001b[43m \u001b[49m\u001b[38;5;241;43m*\u001b[39;49m\u001b[38;5;241;43m*\u001b[39;49m\u001b[43mkwargs\u001b[49m\u001b[43m)\u001b[49m\n",
      "\u001b[0;31mFileNotFoundError\u001b[0m: [Errno 2] No such file or directory: '../EndPointsAPIS/EndPoints/endpointsS1.json'"
     ]
    }
   ],
   "source": [
    "class APIClient:\n",
    "    def __init__(self, suppliers_config: List[Dict], tokens_config: Dict):\n",
    "        \"\"\"\n",
    "        Inicializa el cliente API con la configuración de proveedores y tokens\n",
    "        \n",
    "        Args:\n",
    "            suppliers_config: Lista de configuraciones de proveedores\n",
    "            tokens_config: Diccionario con los tokens de acceso por proveedor\n",
    "        \"\"\"\n",
    "        self.suppliers = {s[\"supplier_id\"]: s for s in suppliers_config}\n",
    "        self.tokens = tokens_config\n",
    "\n",
    "    def _get_token(self, supplier_id: str) -> Optional[str]:\n",
    "        \"\"\"Obtiene el token válido para un proveedor específico\"\"\"\n",
    "        if supplier_id not in self.tokens:\n",
    "            return None\n",
    "            \n",
    "        token_info = self.tokens[supplier_id]\n",
    "        token_timestamp = datetime.fromisoformat(token_info[\"timestamp\"])\n",
    "        current_time = datetime.now()\n",
    "        \n",
    "        # Verificar si el token ha expirado\n",
    "        time_diff = (current_time - token_timestamp).total_seconds()\n",
    "        if time_diff >= token_info[\"expires_in\"]:\n",
    "            print(f\"Token expirado para {supplier_id}\")\n",
    "            return None\n",
    "            \n",
    "        return token_info[\"access_token\"]\n",
    "\n",
    "    def query_endpoint(self, supplier_id: str) -> Dict:\n",
    "        \"\"\"\n",
    "        Consulta el endpoint para un proveedor específico\n",
    "        \n",
    "        Args:\n",
    "            supplier_id: Identificador del proveedor\n",
    "            \n",
    "        Returns:\n",
    "            Dict con la respuesta del endpoint o mensaje de error\n",
    "        \"\"\"\n",
    "        if supplier_id not in self.suppliers:\n",
    "            return {\"error\": f\"Proveedor no encontrado: {supplier_id}\"}\n",
    "            \n",
    "        supplier = self.suppliers[supplier_id]\n",
    "        token = self._get_token(supplier_id)\n",
    "        \n",
    "        if not token:\n",
    "            return {\"error\": f\"Token no válido para: {supplier_id}\"}\n",
    "            \n",
    "        headers = {\n",
    "            \"Authorization\": f\"Bearer {token}\",\n",
    "            \"Accept\": \"application/json\"\n",
    "        }\n",
    "        \n",
    "        try:\n",
    "            response = requests.get(supplier[\"url\"], headers=headers, timeout=30)\n",
    "            response.raise_for_status()\n",
    "            return response.json()\n",
    "        except requests.exceptions.RequestException as e:\n",
    "            return {\"error\": f\"Error al consultar endpoint: {str(e)}\"}\n",
    "\n",
    "    def query_all_endpoints(self) -> Dict[str, Dict]:\n",
    "        \"\"\"\n",
    "        Consulta todos los endpoints disponibles\n",
    "        \n",
    "        Returns:\n",
    "            Dict con las respuestas de todos los endpoints\n",
    "        \"\"\"\n",
    "        results = {}\n",
    "        for supplier_id in self.suppliers:\n",
    "            results[supplier_id] = self.query_endpoint(supplier_id)\n",
    "        return results\n",
    "\n",
    "# Ejemplo de uso:\n",
    "def main():\n",
    "    # Cargar configuraciones desde archivos\n",
    "    with open(credenciales, \"r\") as f:\n",
    "        suppliers_config = json.load(f)\n",
    "    \n",
    "    with open(tokens_s1, \"r\") as f:\n",
    "        tokens_config = json.load(f)\n",
    "    \n",
    "    # Crear instancia del cliente\n",
    "    client = APIClient(suppliers_config, tokens_config)\n",
    "    \n",
    "    # Consultar un endpoint específico\n",
    "    result = client.query_endpoint(\"SESEA_AGUASCALIENTES\")\n",
    "    print(f\"Resultado para SESEA_AGUASCALIENTES: {result}\")\n",
    "    \n",
    "    # O consultar todos los endpoints\n",
    "    all_results = client.query_all_endpoints()\n",
    "    print(\"\\nResultados de todos los endpoints:\")\n",
    "    for supplier_id, result in all_results.items():\n",
    "        print(f\"{supplier_id}: {result}\")\n",
    "\n",
    "if __name__ == \"__main__\":\n",
    "    main()"
   ]
  },
  {
   "cell_type": "code",
   "execution_count": null,
   "metadata": {},
   "outputs": [],
   "source": []
  },
  {
   "cell_type": "code",
   "execution_count": null,
   "metadata": {},
   "outputs": [],
   "source": []
  },
  {
   "cell_type": "code",
   "execution_count": null,
   "metadata": {},
   "outputs": [],
   "source": []
  }
 ],
 "metadata": {
  "kernelspec": {
   "display_name": "monitorear_api_venv",
   "language": "python",
   "name": "python3"
  },
  "language_info": {
   "codemirror_mode": {
    "name": "ipython",
    "version": 3
   },
   "file_extension": ".py",
   "mimetype": "text/x-python",
   "name": "python",
   "nbconvert_exporter": "python",
   "pygments_lexer": "ipython3",
   "version": "3.12.4"
  }
 },
 "nbformat": 4,
 "nbformat_minor": 2
}
