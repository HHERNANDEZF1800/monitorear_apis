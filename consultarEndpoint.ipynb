{
 "cells": [
  {
   "cell_type": "markdown",
   "metadata": {},
   "source": []
  },
  {
   "cell_type": "code",
   "execution_count": 24,
   "metadata": {},
   "outputs": [],
   "source": [
    "import requests\n",
    "import json\n",
    "from datetime import datetime\n",
    "from typing import Dict, List, Optional"
   ]
  },
  {
   "cell_type": "code",
   "execution_count": 25,
   "metadata": {},
   "outputs": [],
   "source": [
    "tokens_s1 = 'tokens_obtenidos/tokens.json'\n",
    "credenciales = '../EndPointsAPIS/EndPoints/endpointsS1_uno.json'"
   ]
  },
  {
   "cell_type": "markdown",
   "metadata": {},
   "source": [
    "#### Funciones"
   ]
  },
  {
   "cell_type": "code",
   "execution_count": 26,
   "metadata": {},
   "outputs": [
    {
     "name": "stdout",
     "output_type": "stream",
     "text": [
      "Resultado para SESEA_AGUASCALIENTES: {'error': 'Error al consultar endpoint: 400 Client Error:  for url: https://dataseaags.org:8485/apiResources/v2/declaraciones'}\n",
      "\n",
      "Resultados de todos los endpoints:\n",
      "SESEA_AGUASCALIENTES: {'error': 'Error al consultar endpoint: 400 Client Error:  for url: https://dataseaags.org:8485/apiResources/v2/declaraciones'}\n",
      "SESEA_JALISCO: {'error': 'Error al consultar endpoint: 405 Client Error: Method Not Allowed for url: https://proxyjal.seajal.org/api/v2/declaraciones/'}\n",
      "GUANAJUATO: {'error': 'Error al consultar endpoint: 405 Client Error: Method Not Allowed for url: https://plataformadigital.guanajuato.gob.mx/declaraciones/v2/declaraciones/'}\n",
      "EDOMEX: {'error': \"Error al consultar endpoint: HTTPSConnectionPool(host='saemm.gob.mx', port=443): Max retries exceeded with url: /apiDeclaracioness/v2/declaraciones (Caused by SSLError(SSLCertVerificationError(1, '[SSL: CERTIFICATE_VERIFY_FAILED] certificate verify failed: unable to get local issuer certificate (_ssl.c:1000)')))\"}\n"
     ]
    }
   ],
   "source": [
    "class APIClient:\n",
    "    def __init__(self, suppliers_config: List[Dict], tokens_config: Dict):\n",
    "        \"\"\"\n",
    "        Inicializa el cliente API con la configuración de proveedores y tokens\n",
    "        \n",
    "        Args:\n",
    "            suppliers_config: Lista de configuraciones de proveedores\n",
    "            tokens_config: Diccionario con los tokens de acceso por proveedor\n",
    "        \"\"\"\n",
    "        self.suppliers = {s[\"supplier_id\"]: s for s in suppliers_config}\n",
    "        self.tokens = tokens_config\n",
    "\n",
    "    def _get_token(self, supplier_id: str) -> Optional[str]:\n",
    "        \"\"\"Obtiene el token válido para un proveedor específico\"\"\"\n",
    "        if supplier_id not in self.tokens:\n",
    "            return None\n",
    "            \n",
    "        token_info = self.tokens[supplier_id]\n",
    "        token_timestamp = datetime.fromisoformat(token_info[\"timestamp\"])\n",
    "        current_time = datetime.now()\n",
    "        \n",
    "        # Verificar si el token ha expirado\n",
    "        time_diff = (current_time - token_timestamp).total_seconds()\n",
    "        if time_diff >= token_info[\"expires_in\"]:\n",
    "            print(f\"Token expirado para {supplier_id}\")\n",
    "            return None\n",
    "            \n",
    "        return token_info[\"access_token\"]\n",
    "\n",
    "    def query_endpoint(self, supplier_id: str) -> Dict:\n",
    "        \"\"\"\n",
    "        Consulta el endpoint para un proveedor específico\n",
    "        \n",
    "        Args:\n",
    "            supplier_id: Identificador del proveedor\n",
    "            \n",
    "        Returns:\n",
    "            Dict con la respuesta del endpoint o mensaje de error\n",
    "        \"\"\"\n",
    "        if supplier_id not in self.suppliers:\n",
    "            return {\"error\": f\"Proveedor no encontrado: {supplier_id}\"}\n",
    "            \n",
    "        supplier = self.suppliers[supplier_id]\n",
    "        token = self._get_token(supplier_id)\n",
    "        \n",
    "        if not token:\n",
    "            return {\"error\": f\"Token no válido para: {supplier_id}\"}\n",
    "            \n",
    "        headers = {\n",
    "            \"Authorization\": f\"Bearer {token}\",\n",
    "            \"Accept\": \"application/json\"\n",
    "        }\n",
    "        \n",
    "        try:\n",
    "            response = requests.get(supplier[\"url\"], headers=headers, timeout=30)\n",
    "            response.raise_for_status()\n",
    "            return response.json()\n",
    "        except requests.exceptions.RequestException as e:\n",
    "            return {\"error\": f\"Error al consultar endpoint: {str(e)}\"}\n",
    "\n",
    "    def query_all_endpoints(self) -> Dict[str, Dict]:\n",
    "        \"\"\"\n",
    "        Consulta todos los endpoints disponibles\n",
    "        \n",
    "        Returns:\n",
    "            Dict con las respuestas de todos los endpoints\n",
    "        \"\"\"\n",
    "        results = {}\n",
    "        for supplier_id in self.suppliers:\n",
    "            results[supplier_id] = self.query_endpoint(supplier_id)\n",
    "        return results\n",
    "\n",
    "# Ejemplo de uso:\n",
    "def main():\n",
    "    # Cargar configuraciones desde archivos\n",
    "    with open(credenciales, \"r\") as f:\n",
    "        suppliers_config = json.load(f)\n",
    "    \n",
    "    with open(tokens_s1, \"r\") as f:\n",
    "        tokens_config = json.load(f)\n",
    "    \n",
    "    # Crear instancia del cliente\n",
    "    client = APIClient(suppliers_config, tokens_config)\n",
    "    \n",
    "    # Consultar un endpoint específico\n",
    "    result = client.query_endpoint(\"SESEA_AGUASCALIENTES\")\n",
    "    print(f\"Resultado para SESEA_AGUASCALIENTES: {result}\")\n",
    "    \n",
    "    # O consultar todos los endpoints\n",
    "    all_results = client.query_all_endpoints()\n",
    "    print(\"\\nResultados de todos los endpoints:\")\n",
    "    for supplier_id, result in all_results.items():\n",
    "        print(f\"{supplier_id}: {result}\")\n",
    "\n",
    "if __name__ == \"__main__\":\n",
    "    main()"
   ]
  },
  {
   "cell_type": "code",
   "execution_count": null,
   "metadata": {},
   "outputs": [],
   "source": []
  },
  {
   "cell_type": "code",
   "execution_count": null,
   "metadata": {},
   "outputs": [],
   "source": []
  },
  {
   "cell_type": "code",
   "execution_count": null,
   "metadata": {},
   "outputs": [],
   "source": []
  }
 ],
 "metadata": {
  "kernelspec": {
   "display_name": "monitorear_api_venv",
   "language": "python",
   "name": "python3"
  },
  "language_info": {
   "codemirror_mode": {
    "name": "ipython",
    "version": 3
   },
   "file_extension": ".py",
   "mimetype": "text/x-python",
   "name": "python",
   "nbconvert_exporter": "python",
   "pygments_lexer": "ipython3",
   "version": "3.12.4"
  }
 },
 "nbformat": 4,
 "nbformat_minor": 2
}
