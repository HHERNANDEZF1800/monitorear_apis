{
 "cells": [
  {
   "cell_type": "markdown",
   "metadata": {},
   "source": [
    "# Script para monitorear"
   ]
  },
  {
   "cell_type": "code",
   "execution_count": 15,
   "metadata": {},
   "outputs": [],
   "source": [
    "from pprint import pprint\n",
    "import json\n",
    "import requests\n",
    "from requests.auth import HTTPBasicAuth\n",
    "import base64\n",
    "from typing import List, Dict, Optional\n",
    "from datetime import datetime\n",
    "import logging\n",
    "from dataclasses import dataclass\n",
    "import warnings\n",
    "import urllib3\n",
    "import os\n",
    "\n",
    "# Suprimir las advertencias de SSL\n",
    "# urllib3.disable_warnings(urllib3.exceptions.InsecureRequestWarning)\n",
    "urllib3.disable_warnings(urllib3.exceptions.InsecureRequestWarning)\n",
    "logging.basicConfig(level=logging.INFO)\n",
    "logger = logging.getLogger(__name__)"
   ]
  },
  {
   "cell_type": "markdown",
   "metadata": {},
   "source": [
    "### Datos generales"
   ]
  },
  {
   "cell_type": "code",
   "execution_count": 16,
   "metadata": {},
   "outputs": [],
   "source": [
    "## datos generales\n",
    "# Ruta al archivo JSON\n",
    "#archivo_json = '../EndPointsAPIS/EndPoints/endpointsS1_uno.json'\n",
    "archivo_json = '../EndPointsAPIS/EndPoints/endpointsS1.json'\n",
    "directorio_salida_tokens ='/tokens_obtenidos/'"
   ]
  },
  {
   "cell_type": "markdown",
   "metadata": {},
   "source": [
    "### Funciones de python"
   ]
  },
  {
   "cell_type": "markdown",
   "metadata": {},
   "source": [
    "#### Obtener el token"
   ]
  },
  {
   "cell_type": "code",
   "execution_count": 17,
   "metadata": {},
   "outputs": [],
   "source": [
    "# Configurar logging para Jupyter\n",
    "logging.basicConfig(\n",
    "    level=logging.INFO,\n",
    "    format='%(asctime)s - %(levelname)s - %(message)s'\n",
    ")\n",
    "logger = logging.getLogger(__name__)\n",
    "\n",
    "@dataclass\n",
    "class OAuthConfig:\n",
    "    supplier_id: str\n",
    "    token_url: str\n",
    "    username: str\n",
    "    password: str\n",
    "    client_id: str\n",
    "    client_secret: str\n",
    "    scope: str"
   ]
  },
  {
   "cell_type": "code",
   "execution_count": 18,
   "metadata": {},
   "outputs": [],
   "source": [
    "def read_json_file(file_path: str) -> List[Dict]:\n",
    "    \"\"\"Lee y retorna el contenido de un archivo JSON\"\"\"\n",
    "    try:\n",
    "        with open(file_path, 'r', encoding='utf-8') as f:\n",
    "            return json.load(f)\n",
    "    except Exception as e:\n",
    "        logger.error(f\"Error leyendo archivo JSON: {str(e)}\")\n",
    "        raise\n",
    "\n",
    "def filter_active_configs(configs: List[Dict]) -> List[Dict]:\n",
    "    \"\"\"Filtra las configuraciones activas\"\"\"\n",
    "    return [config for config in configs if config['status'] == 'ACTIVE']\n",
    "\n",
    "def create_oauth_config(config_dict: Dict) -> OAuthConfig:\n",
    "    \"\"\"Crea un objeto OAuthConfig a partir de un diccionario\"\"\"\n",
    "    return OAuthConfig(\n",
    "        supplier_id=config_dict['supplier_id'],\n",
    "        token_url=config_dict['token_url'],\n",
    "        username=config_dict['username'],\n",
    "        password=config_dict['password'],\n",
    "        client_id=config_dict['client_id'],\n",
    "        client_secret=config_dict['client_secret'],\n",
    "        scope=config_dict['scope']\n",
    "    )\n",
    "\n",
    "def get_oauth_token(config: OAuthConfig) -> Dict:\n",
    "    \"\"\"\n",
    "    Obtiene un token OAuth usando dos métodos específicos:\n",
    "    1. Autenticación Basic en header\n",
    "    2. Credenciales en el body\n",
    "    \n",
    "    Args:\n",
    "        config (OAuthConfig): Configuración OAuth\n",
    "    \n",
    "    Returns:\n",
    "        Dict: Token y metadatos relacionados\n",
    "    \"\"\"\n",
    "    try:\n",
    "        # Datos base que son comunes para ambos métodos\n",
    "        base_data = {\n",
    "            'grant_type': 'password',\n",
    "            'username': config.username,\n",
    "            'password': config.password,\n",
    "            'scope': config.scope\n",
    "        }\n",
    "        \n",
    "        # Método 1: Basic Auth en header\n",
    "        def try_basic_auth():\n",
    "            # Crear el token Basic Auth\n",
    "            credentials = f\"{config.client_id}:{config.client_secret}\"\n",
    "            basic_token = base64.b64encode(credentials.encode()).decode()\n",
    "            \n",
    "            headers = {\n",
    "                'Authorization': f'Basic {basic_token}',\n",
    "                'Content-Type': 'application/x-www-form-urlencoded'\n",
    "            }\n",
    "            \n",
    "            response = requests.post(\n",
    "                config.token_url,\n",
    "                data=base_data,\n",
    "                headers=headers,\n",
    "                verify=False\n",
    "            )\n",
    "            return response\n",
    "            \n",
    "        # Método 2: Todo en el body\n",
    "        def try_body_auth():\n",
    "            headers = {\n",
    "                'Content-Type': 'application/x-www-form-urlencoded'\n",
    "            }\n",
    "            \n",
    "            # Agregar client_id y client_secret al body\n",
    "            body_data = {\n",
    "                **base_data,\n",
    "                'client_id': config.client_id,\n",
    "                'client_secret': config.client_secret\n",
    "            }\n",
    "            \n",
    "            response = requests.post(\n",
    "                config.token_url,\n",
    "                data=body_data,\n",
    "                headers=headers,\n",
    "                verify=False\n",
    "            )\n",
    "            return response\n",
    "        \n",
    "        # Intentar primer método (Basic Auth en header)\n",
    "        response = try_basic_auth()\n",
    "        if response.status_code == 200:\n",
    "            token_data = response.json()\n",
    "            token_data['timestamp'] = datetime.now().isoformat()\n",
    "            logger.info(f\"Token obtenido exitosamente para {config.supplier_id} usando Basic Auth\")\n",
    "            return token_data\n",
    "            \n",
    "        # Si el primer método falla, intentar el segundo (credenciales en body)\n",
    "        response = try_body_auth()\n",
    "        if response.status_code == 200:\n",
    "            token_data = response.json()\n",
    "            token_data['timestamp'] = datetime.now().isoformat()\n",
    "            logger.info(f\"Token obtenido exitosamente para {config.supplier_id} usando Body Auth\")\n",
    "            return token_data\n",
    "        \n",
    "        # Si ambos métodos fallan, lanzar error con detalles\n",
    "        error_msg = f\"Falló la autenticación. Último código de estado: {response.status_code}\"\n",
    "        try:\n",
    "            error_detail = response.json()\n",
    "            error_msg += f\". Detalle: {error_detail}\"\n",
    "        except:\n",
    "            error_msg += f\". Respuesta: {response.text}\"\n",
    "            \n",
    "        raise Exception(error_msg)\n",
    "            \n",
    "    except Exception as e:\n",
    "        logger.error(f\"Error obteniendo token para {config.supplier_id}: {str(e)}\")\n",
    "        raise\n",
    "\n",
    "def process_oauth_configs(configs: List[Dict]) -> Dict[str, Dict]:\n",
    "    \"\"\"Procesa una lista de configuraciones OAuth y obtiene tokens para cada una\"\"\"\n",
    "    results = {}\n",
    "    \n",
    "    for config_dict in configs:\n",
    "        try:\n",
    "            oauth_config = create_oauth_config(config_dict)\n",
    "            token_data = get_oauth_token(oauth_config)\n",
    "            results[oauth_config.supplier_id] = token_data\n",
    "            logger.info(f\"Token obtenido exitosamente para {oauth_config.supplier_id}\")\n",
    "        except Exception as e:\n",
    "            logger.error(f\"Error procesando {config_dict.get('supplier_id', 'unknown')}: {str(e)}\")\n",
    "            results[config_dict.get('supplier_id', 'unknown')] = {\n",
    "                \"error\": str(e),\n",
    "                \"timestamp\": datetime.now().isoformat()\n",
    "            }\n",
    "    \n",
    "    return results\n",
    "\n",
    "def save_tokens_to_file(tokens: Dict[str, Dict], prefix: str = \"tokens\") -> str:\n",
    "    \"\"\"Guarda los tokens en un archivo JSON\"\"\"\n",
    "    directorio_salida = \"tokens_obtenidos\"\n",
    "    os.makedirs(directorio_salida, exist_ok=True)\n",
    "    \n",
    "    output_file = os.path.join(directorio_salida, f'{prefix}.json')\n",
    "    try:\n",
    "        with open(output_file, 'w', encoding='utf-8') as f:\n",
    "            json.dump(tokens, f, indent=2)\n",
    "        logger.info(f\"Tokens guardados en {output_file}\")\n",
    "        return output_file\n",
    "    except Exception as e:\n",
    "        logger.error(f\"Error guardando tokens: {str(e)}\")\n",
    "        raise"
   ]
  },
  {
   "cell_type": "markdown",
   "metadata": {},
   "source": [
    "#### Consultar el endpoint del api"
   ]
  },
  {
   "cell_type": "code",
   "execution_count": 19,
   "metadata": {},
   "outputs": [],
   "source": [
    "def call_api_with_token(config: Dict, token_data: Dict) -> Dict:\n",
    "    \"\"\"\n",
    "    Llama a la API usando el token obtenido\n",
    "    \"\"\"\n",
    "    try:\n",
    "        headers = {\n",
    "            'Authorization': f\"{token_data.get('token_type', 'Bearer')} {token_data.get('access_token')}\",\n",
    "            'Content-Type': 'application/json',\n",
    "            'Accept': 'application/json'\n",
    "        }\n",
    "        \n",
    "        response = requests.get(\n",
    "            config['url'],\n",
    "            headers=headers,\n",
    "            verify=False\n",
    "        )\n",
    "        response.raise_for_status()\n",
    "        return response.json()\n",
    "    except Exception as e:\n",
    "        logger.error(f\"Error llamando API {config['url']}: {str(e)}\")\n",
    "        return {\"error\": str(e)}\n",
    "\n",
    "def process_all_apis(configs: List[Dict], tokens: Dict[str, Dict]) -> Dict[str, Dict]:\n",
    "    \"\"\"\n",
    "    Procesa todas las APIs con sus respectivos tokens\n",
    "    \"\"\"\n",
    "    results = {}\n",
    "    \n",
    "    for config in configs:\n",
    "        supplier_id = config['supplier_id']\n",
    "        try:\n",
    "            if supplier_id in tokens and 'token_data' in tokens[supplier_id]:\n",
    "                api_response = call_api_with_token(config, tokens[supplier_id]['token_data'])\n",
    "                results[supplier_id] = {\n",
    "                    'data': api_response,\n",
    "                    'status': 'success',\n",
    "                    'timestamp': datetime.now().isoformat()\n",
    "                }\n",
    "            else:\n",
    "                logger.warning(f\"No se encontró token para {supplier_id}\")\n",
    "                results[supplier_id] = {\n",
    "                    'error': 'Token no encontrado',\n",
    "                    'status': 'error',\n",
    "                    'timestamp': datetime.now().isoformat()\n",
    "                }\n",
    "        except Exception as e:\n",
    "            results[supplier_id] = {\n",
    "                'error': str(e),\n",
    "                'status': 'error',\n",
    "                'timestamp': datetime.now().isoformat()\n",
    "            }\n",
    "    \n",
    "    # Guardar resultados\n",
    "    output_file = os.path.join('api_responses', f'responses_{datetime.now().strftime(\"%Y%m%d_%H%M%S\")}.json')\n",
    "    os.makedirs('api_responses', exist_ok=True)\n",
    "    \n",
    "    with open(output_file, 'w', encoding='utf-8') as f:\n",
    "        json.dump(results, f, indent=2)\n",
    "    \n",
    "    return results"
   ]
  },
  {
   "cell_type": "markdown",
   "metadata": {},
   "source": [
    "### Main del proceso"
   ]
  },
  {
   "cell_type": "markdown",
   "metadata": {},
   "source": [
    "##### Obteniendo el token"
   ]
  },
  {
   "cell_type": "code",
   "execution_count": 20,
   "metadata": {},
   "outputs": [],
   "source": [
    "def process_configs(configs: List[Dict]) -> Dict[str, Dict]:\n",
    "    \"\"\"Procesa configuraciones y obtiene tokens\"\"\"\n",
    "    active_configs = filter_active_configs(configs)\n",
    "    logger.info(f\"Configuraciones activas encontradas: {len(active_configs)}\")\n",
    "    \n",
    "    tokens = process_oauth_configs(active_configs)\n",
    "    return tokens"
   ]
  },
  {
   "cell_type": "code",
   "execution_count": 21,
   "metadata": {},
   "outputs": [
    {
     "name": "stderr",
     "output_type": "stream",
     "text": [
      "ERROR:__main__:Error leyendo archivo JSON: [Errno 2] No such file or directory: '../EndPointsAPIS/EndPoints/endpointsS1_uno.json'\n"
     ]
    },
    {
     "ename": "FileNotFoundError",
     "evalue": "[Errno 2] No such file or directory: '../EndPointsAPIS/EndPoints/endpointsS1_uno.json'",
     "output_type": "error",
     "traceback": [
      "\u001b[0;31m---------------------------------------------------------------------------\u001b[0m",
      "\u001b[0;31mFileNotFoundError\u001b[0m                         Traceback (most recent call last)",
      "Cell \u001b[0;32mIn[21], line 2\u001b[0m\n\u001b[1;32m      1\u001b[0m \u001b[38;5;66;03m# Procesar configuraciones y obtener tokens\u001b[39;00m\n\u001b[0;32m----> 2\u001b[0m configs \u001b[38;5;241m=\u001b[39m \u001b[43mread_json_file\u001b[49m\u001b[43m(\u001b[49m\u001b[38;5;124;43m'\u001b[39;49m\u001b[38;5;124;43m../EndPointsAPIS/EndPoints/endpointsS1_uno.json\u001b[39;49m\u001b[38;5;124;43m'\u001b[39;49m\u001b[43m)\u001b[49m\n\u001b[1;32m      3\u001b[0m tokens \u001b[38;5;241m=\u001b[39m process_configs(configs)\n\u001b[1;32m      6\u001b[0m \u001b[38;5;66;03m# Guardar tokens (opcional)\u001b[39;00m\n",
      "Cell \u001b[0;32mIn[18], line 4\u001b[0m, in \u001b[0;36mread_json_file\u001b[0;34m(file_path)\u001b[0m\n\u001b[1;32m      2\u001b[0m \u001b[38;5;250m\u001b[39m\u001b[38;5;124;03m\"\"\"Lee y retorna el contenido de un archivo JSON\"\"\"\u001b[39;00m\n\u001b[1;32m      3\u001b[0m \u001b[38;5;28;01mtry\u001b[39;00m:\n\u001b[0;32m----> 4\u001b[0m     \u001b[38;5;28;01mwith\u001b[39;00m \u001b[38;5;28;43mopen\u001b[39;49m\u001b[43m(\u001b[49m\u001b[43mfile_path\u001b[49m\u001b[43m,\u001b[49m\u001b[43m \u001b[49m\u001b[38;5;124;43m'\u001b[39;49m\u001b[38;5;124;43mr\u001b[39;49m\u001b[38;5;124;43m'\u001b[39;49m\u001b[43m,\u001b[49m\u001b[43m \u001b[49m\u001b[43mencoding\u001b[49m\u001b[38;5;241;43m=\u001b[39;49m\u001b[38;5;124;43m'\u001b[39;49m\u001b[38;5;124;43mutf-8\u001b[39;49m\u001b[38;5;124;43m'\u001b[39;49m\u001b[43m)\u001b[49m \u001b[38;5;28;01mas\u001b[39;00m f:\n\u001b[1;32m      5\u001b[0m         \u001b[38;5;28;01mreturn\u001b[39;00m json\u001b[38;5;241m.\u001b[39mload(f)\n\u001b[1;32m      6\u001b[0m \u001b[38;5;28;01mexcept\u001b[39;00m \u001b[38;5;167;01mException\u001b[39;00m \u001b[38;5;28;01mas\u001b[39;00m e:\n",
      "File \u001b[0;32m~/sesna/desarrollo/otros/monitorear_api/monitorear_api_venv/lib/python3.12/site-packages/IPython/core/interactiveshell.py:324\u001b[0m, in \u001b[0;36m_modified_open\u001b[0;34m(file, *args, **kwargs)\u001b[0m\n\u001b[1;32m    317\u001b[0m \u001b[38;5;28;01mif\u001b[39;00m file \u001b[38;5;129;01min\u001b[39;00m {\u001b[38;5;241m0\u001b[39m, \u001b[38;5;241m1\u001b[39m, \u001b[38;5;241m2\u001b[39m}:\n\u001b[1;32m    318\u001b[0m     \u001b[38;5;28;01mraise\u001b[39;00m \u001b[38;5;167;01mValueError\u001b[39;00m(\n\u001b[1;32m    319\u001b[0m         \u001b[38;5;124mf\u001b[39m\u001b[38;5;124m\"\u001b[39m\u001b[38;5;124mIPython won\u001b[39m\u001b[38;5;124m'\u001b[39m\u001b[38;5;124mt let you open fd=\u001b[39m\u001b[38;5;132;01m{\u001b[39;00mfile\u001b[38;5;132;01m}\u001b[39;00m\u001b[38;5;124m by default \u001b[39m\u001b[38;5;124m\"\u001b[39m\n\u001b[1;32m    320\u001b[0m         \u001b[38;5;124m\"\u001b[39m\u001b[38;5;124mas it is likely to crash IPython. If you know what you are doing, \u001b[39m\u001b[38;5;124m\"\u001b[39m\n\u001b[1;32m    321\u001b[0m         \u001b[38;5;124m\"\u001b[39m\u001b[38;5;124myou can use builtins\u001b[39m\u001b[38;5;124m'\u001b[39m\u001b[38;5;124m open.\u001b[39m\u001b[38;5;124m\"\u001b[39m\n\u001b[1;32m    322\u001b[0m     )\n\u001b[0;32m--> 324\u001b[0m \u001b[38;5;28;01mreturn\u001b[39;00m \u001b[43mio_open\u001b[49m\u001b[43m(\u001b[49m\u001b[43mfile\u001b[49m\u001b[43m,\u001b[49m\u001b[43m \u001b[49m\u001b[38;5;241;43m*\u001b[39;49m\u001b[43margs\u001b[49m\u001b[43m,\u001b[49m\u001b[43m \u001b[49m\u001b[38;5;241;43m*\u001b[39;49m\u001b[38;5;241;43m*\u001b[39;49m\u001b[43mkwargs\u001b[49m\u001b[43m)\u001b[49m\n",
      "\u001b[0;31mFileNotFoundError\u001b[0m: [Errno 2] No such file or directory: '../EndPointsAPIS/EndPoints/endpointsS1_uno.json'"
     ]
    }
   ],
   "source": [
    "# Procesar configuraciones y obtener tokens\n",
    "configs = read_json_file('../EndPointsAPIS/EndPoints/endpointsS1_uno.json')\n",
    "tokens = process_configs(configs)\n",
    "\n",
    "\n",
    "# Guardar tokens (opcional)\n",
    "output_file = save_tokens_to_file(tokens)\n",
    "print(f\"Tokens guardados en: {output_file}\")\n",
    "pprint(tokens)"
   ]
  },
  {
   "cell_type": "markdown",
   "metadata": {},
   "source": [
    "##### Obteniendo los datos del endpoint"
   ]
  },
  {
   "cell_type": "code",
   "execution_count": 40,
   "metadata": {},
   "outputs": [
    {
     "name": "stderr",
     "output_type": "stream",
     "text": [
      "INFO:__main__:Configuraciones activas encontradas: 4\n",
      "INFO:__main__:Token obtenido exitosamente para SESEA_AGUASCALIENTES usando Basic Auth\n",
      "INFO:__main__:Token obtenido exitosamente para SESEA_AGUASCALIENTES\n",
      "INFO:__main__:Token obtenido exitosamente para SESEA_JALISCO usando Basic Auth\n",
      "INFO:__main__:Token obtenido exitosamente para SESEA_JALISCO\n",
      "INFO:__main__:Token obtenido exitosamente para GUANAJUATO usando Basic Auth\n",
      "INFO:__main__:Token obtenido exitosamente para GUANAJUATO\n",
      "INFO:__main__:Token obtenido exitosamente para EDOMEX usando Basic Auth\n",
      "INFO:__main__:Token obtenido exitosamente para EDOMEX\n",
      "WARNING:__main__:No se encontró token para SESEA_AGUASCALIENTES\n",
      "WARNING:__main__:No se encontró token para SESEA_JALISCO\n",
      "WARNING:__main__:No se encontró token para GUANAJUATO\n",
      "WARNING:__main__:No se encontró token para EDOMEX\n"
     ]
    },
    {
     "name": "stdout",
     "output_type": "stream",
     "text": [
      "{'EDOMEX': {'error': 'Token no encontrado',\n",
      "            'status': 'error',\n",
      "            'timestamp': '2025-02-05T17:59:28.370600'},\n",
      " 'GUANAJUATO': {'error': 'Token no encontrado',\n",
      "                'status': 'error',\n",
      "                'timestamp': '2025-02-05T17:59:28.370185'},\n",
      " 'SESEA_AGUASCALIENTES': {'error': 'Token no encontrado',\n",
      "                          'status': 'error',\n",
      "                          'timestamp': '2025-02-05T17:59:28.368802'},\n",
      " 'SESEA_JALISCO': {'error': 'Token no encontrado',\n",
      "                   'status': 'error',\n",
      "                   'timestamp': '2025-02-05T17:59:28.369495'}}\n"
     ]
    }
   ],
   "source": [
    "# Primero obtén los tokens\n",
    "tokens = process_configs(configs)\n",
    "\n",
    "# Luego llama a las APIs\n",
    "api_results = process_all_apis(configs, tokens)\n",
    "\n",
    "# Ver resultados\n",
    "pprint(api_results)"
   ]
  },
  {
   "cell_type": "code",
   "execution_count": null,
   "metadata": {},
   "outputs": [],
   "source": []
  }
 ],
 "metadata": {
  "kernelspec": {
   "display_name": "monitorear_api_venv",
   "language": "python",
   "name": "python3"
  },
  "language_info": {
   "codemirror_mode": {
    "name": "ipython",
    "version": 3
   },
   "file_extension": ".py",
   "mimetype": "text/x-python",
   "name": "python",
   "nbconvert_exporter": "python",
   "pygments_lexer": "ipython3",
   "version": "3.12.4"
  }
 },
 "nbformat": 4,
 "nbformat_minor": 2
}
